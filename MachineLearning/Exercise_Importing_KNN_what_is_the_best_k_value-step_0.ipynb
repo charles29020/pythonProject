{
 "cells": [
  {
   "cell_type": "markdown",
   "id": "coral-intent",
   "metadata": {},
   "source": [
    "## Exercise_Importing_KNN_what_is_the_best_k_value-step_0"
   ]
  },
  {
   "cell_type": "code",
   "execution_count": 191,
   "id": "synthetic-paper",
   "metadata": {},
   "outputs": [],
   "source": [
    "# part 2 - also includes the exercize conclusion with chart\n",
    "# hint: command shift p to see shortcuts\n",
    "# run cell and select next -> [option][shift]\n",
    "from sklearn.datasets import load_iris\n",
    "iris = load_iris()\n",
    "print(iris.data)"
   ]
  },
  {
   "cell_type": "code",
   "execution_count": 176,
   "id": "selective-research",
   "metadata": {},
   "outputs": [],
   "source": [
    "# print the targets (numbers 0,1,2 represent the names of the target data as numeric values)\n",
    "print(iris.target)"
   ]
  },
  {
   "cell_type": "code",
   "execution_count": 177,
   "id": "embedded-melbourne",
   "metadata": {},
   "outputs": [],
   "source": [
    "# names of targets (0,1,2)\n",
    "print(iris.target_names)"
   ]
  },
  {
   "cell_type": "code",
   "execution_count": 178,
   "id": "thirty-silver",
   "metadata": {},
   "outputs": [],
   "source": [
    "print(iris.data.shape)"
   ]
  },
  {
   "cell_type": "code",
   "execution_count": 179,
   "id": "after-hollow",
   "metadata": {},
   "outputs": [],
   "source": [
    "print(iris.target.shape)"
   ]
  },
  {
   "cell_type": "markdown",
   "id": "wired-disclosure",
   "metadata": {},
   "source": [
    "## Importing KNN"
   ]
  },
  {
   "cell_type": "code",
   "execution_count": 180,
   "id": "respiratory-count",
   "metadata": {},
   "outputs": [],
   "source": [
    "# KNeighborsClassifier is case sensetive\n",
    "# make KNeighborsClassifier a function passing in n_neighbors=1\n",
    "# create a new variable, knn -> knn = KNeighborsClassifier(n_neighbors=1) - 1 may not be the best value, we will try to choose the best value later\n",
    "from sklearn.neighbors import KNeighborsClassifier\n",
    "knn = KNeighborsClassifier(n_neighbors=1)"
   ]
  },
  {
   "cell_type": "code",
   "execution_count": 181,
   "id": "retained-retention",
   "metadata": {},
   "outputs": [],
   "source": [
    "# capital X is usally the data and y is the target\n",
    "\n",
    "X = iris.data\n",
    "y = iris.target"
   ]
  },
  {
   "cell_type": "code",
   "execution_count": 182,
   "id": "patient-radical",
   "metadata": {},
   "outputs": [],
   "source": [
    "# the fit function is used to train the computer - pass in X and y as parameters\n",
    "knn.fit(X,y)\n",
    "# information about the projection is returned as an Out value, notice the n_neighbors value"
   ]
  },
  {
   "cell_type": "code",
   "execution_count": 183,
   "id": "periodic-absorption",
   "metadata": {},
   "outputs": [],
   "source": [
    "# Now we predict \n",
    "# The Iris Dataset - Ronald Foisher - Biologist\n",
    "# Collected 150 samples pf Iris flowers\n",
    "# 50 samples of each of three different species\n",
    "# Of each sample, he took the measurements of the petal and the sepal\n",
    "# see -> https://www.kaggle.com/ for additional info including tutorials\n",
    "# The Iris Dataset - Ronald Foisher - Biologist\n",
    "# Collected 150 samples pf Iris flowers\n",
    "# 50 samples of each of three different species\n",
    "# Of each sample, he took the measurements of the petal and the sepal\n",
    "# get a sample from the Iris Dataset (species data) - choose one set and clean the data\n",
    "# Sepal.Length, SepalWidth, Petel.Length, Petal.Width, Species\n",
    "# google for more info -> iris dataset machine learning\n",
    "\n",
    "# list of observations coipied from above \n",
    "print(knn.predict( [ [5.9,3,5.1,1.8 ] ] ) )\n",
    "# get a sample from the Iris Dataset (species data) - choose one set and clean the data\n",
    "# Sepal.Length, SepalWidth, Petel.Length, Petal.Width, Species\n",
    "# google for more info -> iris dataset machine learning\n",
    "### print(knn.predict( [ [5.9,3,5.1,1.8 ] ] ))"
   ]
  },
  {
   "cell_type": "markdown",
   "id": "armed-supplement",
   "metadata": {},
   "source": [
    "## Seperate data into train and test groups"
   ]
  },
  {
   "cell_type": "code",
   "execution_count": 184,
   "id": "complete-description",
   "metadata": {},
   "outputs": [],
   "source": [
    "# use sklearn -> https://scikit-learn.org/stable/modules/generated/sklearn.model_selection.train_test_split.html\n",
    "# X_train - train the computer\n",
    "# X_test - test permance of the train\n",
    "# y_train - y train the computer\n",
    "# y_test - y test the training of the computer\n",
    "\n",
    "# test_size = 0.25 means that 75 % of data will be used for training\n",
    "# test_size = 0.25, random_state=42 \n",
    "# the random_state=42 will provide more accuracy across testors\n",
    "\n",
    "from sklearn.model_selection import train_test_split\n",
    "# X_train, X_test, y_train, y_test = train_test_split(X,y, test_size=0.25)   # performance = 0.9736842105263158\n",
    "## X_train, X_test, y_train, y_test = train_test_split(X,y, test_size=0.25, random_state=42) # performance = 1.0\n",
    "X_train, X_test, y_train, y_test = train_test_split(X,y, test_size=0.40, random_state=42) # performance = 0.9833333333333333"
   ]
  },
  {
   "cell_type": "code",
   "execution_count": 185,
   "id": "ignored-sweet",
   "metadata": {},
   "outputs": [],
   "source": [
    "# print(X_train) - will show the training data\n",
    "# print(X_train.shape) - will show the number of observations used to train\n",
    "# print(X_test.shape) - will show the number of observations use to test\n",
    "print(X_test.shape)"
   ]
  },
  {
   "cell_type": "code",
   "execution_count": 186,
   "id": "saved-fundamentals",
   "metadata": {},
   "outputs": [],
   "source": [
    "# lets see what is predicted - observations are done ramdomly by the train_test_split module\n",
    "knn.fit(X_train, y_train)\n",
    "predictions = knn.predict(X_test)\n",
    "print(predictions)"
   ]
  },
  {
   "cell_type": "code",
   "execution_count": 187,
   "id": "federal-programming",
   "metadata": {},
   "outputs": [],
   "source": [
    "# compare with predictions above, visual inspection seems to match\n",
    "print(y_test)"
   ]
  },
  {
   "cell_type": "code",
   "execution_count": 188,
   "id": "european-invite",
   "metadata": {},
   "outputs": [],
   "source": [
    "# use the sklearn metrics module to help with the analysis\n",
    "from sklearn import metrics\n",
    "performance = metrics.accuracy_score(y_test, predictions)\n",
    "print(performance)"
   ]
  },
  {
   "cell_type": "code",
   "execution_count": 189,
   "id": "suspended-haiti",
   "metadata": {},
   "outputs": [],
   "source": [
    "# Picking the best value of k\n",
    "# Create a loop to apply KNN with values ranging from 1 to 25.\n",
    "# Test the perfomance of each K value and present the ones that best suits our dataset.\n",
    "# answer below\n",
    "# create a dictionary of K values (k_values)\n",
    "# build the dictionary as we loop\n",
    "\n",
    "k_values = {}\n",
    "k = 1\n",
    "\n",
    "while k <= 25:\n",
    "    ### NO  answers.append(correct_answer)\n",
    "    ### NO k_values.append('k':k, 'p_val':p)\n",
    "    \n",
    "    knn = KNeighborsClassifier(n_neighbors = k) # copied from above but 1 replaced by k - looping\n",
    "    knn.fit(X_train, y_train)  # use the X_train and y_train parameters\n",
    "    predictions = knn.predict(X_test)\n",
    "    performance = metrics.accuracy_score(y_test, predictions)  # copied from above\n",
    "    k_values[k] = round(performance,4) # add to dictionary with k as the key and performance as the value\n",
    "    k += 1\n",
    "print(k_values)\n",
    "    "
   ]
  },
  {
   "cell_type": "code",
   "execution_count": 190,
   "id": "orange-enforcement",
   "metadata": {},
   "outputs": [],
   "source": [
    "# make a chart for easier analysis\n",
    "import matplotlib.pyplot as plt\n",
    "\n",
    "# to show inline, use the next line\n",
    "%matplotlib inline\n",
    "\n",
    "# make a list from the k_values dictionary \n",
    "plt.plot(list(k_values.keys()), list(k_values.values()))\n",
    "plt.xlabel(\"Values of K\")\n",
    "plt.ylabel(\"Performance\")\n",
    "plt.show()"
   ]
  },
  {
   "cell_type": "code",
   "execution_count": null,
   "id": "posted-fight",
   "metadata": {},
   "outputs": [],
   "source": []
  }
 ],
 "metadata": {
  "kernelspec": {
   "display_name": "Python 3",
   "language": "python",
   "name": "python3"
  },
  "language_info": {
   "codemirror_mode": {
    "name": "ipython",
    "version": 3
   },
   "file_extension": ".py",
   "mimetype": "text/x-python",
   "name": "python",
   "nbconvert_exporter": "python",
   "pygments_lexer": "ipython3",
   "version": "3.9.1"
  }
 },
 "nbformat": 4,
 "nbformat_minor": 5
}
