{
 "cells": [
  {
   "cell_type": "code",
   "execution_count": 108,
   "id": "synthetic-paper",
   "metadata": {},
   "outputs": [
    {
     "name": "stdout",
     "output_type": "stream",
     "text": [
      "[[5.1 3.5 1.4 0.2]\n",
      " [4.9 3.  1.4 0.2]\n",
      " [4.7 3.2 1.3 0.2]\n",
      " [4.6 3.1 1.5 0.2]\n",
      " [5.  3.6 1.4 0.2]\n",
      " [5.4 3.9 1.7 0.4]\n",
      " [4.6 3.4 1.4 0.3]\n",
      " [5.  3.4 1.5 0.2]\n",
      " [4.4 2.9 1.4 0.2]\n",
      " [4.9 3.1 1.5 0.1]\n",
      " [5.4 3.7 1.5 0.2]\n",
      " [4.8 3.4 1.6 0.2]\n",
      " [4.8 3.  1.4 0.1]\n",
      " [4.3 3.  1.1 0.1]\n",
      " [5.8 4.  1.2 0.2]\n",
      " [5.7 4.4 1.5 0.4]\n",
      " [5.4 3.9 1.3 0.4]\n",
      " [5.1 3.5 1.4 0.3]\n",
      " [5.7 3.8 1.7 0.3]\n",
      " [5.1 3.8 1.5 0.3]\n",
      " [5.4 3.4 1.7 0.2]\n",
      " [5.1 3.7 1.5 0.4]\n",
      " [4.6 3.6 1.  0.2]\n",
      " [5.1 3.3 1.7 0.5]\n",
      " [4.8 3.4 1.9 0.2]\n",
      " [5.  3.  1.6 0.2]\n",
      " [5.  3.4 1.6 0.4]\n",
      " [5.2 3.5 1.5 0.2]\n",
      " [5.2 3.4 1.4 0.2]\n",
      " [4.7 3.2 1.6 0.2]\n",
      " [4.8 3.1 1.6 0.2]\n",
      " [5.4 3.4 1.5 0.4]\n",
      " [5.2 4.1 1.5 0.1]\n",
      " [5.5 4.2 1.4 0.2]\n",
      " [4.9 3.1 1.5 0.2]\n",
      " [5.  3.2 1.2 0.2]\n",
      " [5.5 3.5 1.3 0.2]\n",
      " [4.9 3.6 1.4 0.1]\n",
      " [4.4 3.  1.3 0.2]\n",
      " [5.1 3.4 1.5 0.2]\n",
      " [5.  3.5 1.3 0.3]\n",
      " [4.5 2.3 1.3 0.3]\n",
      " [4.4 3.2 1.3 0.2]\n",
      " [5.  3.5 1.6 0.6]\n",
      " [5.1 3.8 1.9 0.4]\n",
      " [4.8 3.  1.4 0.3]\n",
      " [5.1 3.8 1.6 0.2]\n",
      " [4.6 3.2 1.4 0.2]\n",
      " [5.3 3.7 1.5 0.2]\n",
      " [5.  3.3 1.4 0.2]\n",
      " [7.  3.2 4.7 1.4]\n",
      " [6.4 3.2 4.5 1.5]\n",
      " [6.9 3.1 4.9 1.5]\n",
      " [5.5 2.3 4.  1.3]\n",
      " [6.5 2.8 4.6 1.5]\n",
      " [5.7 2.8 4.5 1.3]\n",
      " [6.3 3.3 4.7 1.6]\n",
      " [4.9 2.4 3.3 1. ]\n",
      " [6.6 2.9 4.6 1.3]\n",
      " [5.2 2.7 3.9 1.4]\n",
      " [5.  2.  3.5 1. ]\n",
      " [5.9 3.  4.2 1.5]\n",
      " [6.  2.2 4.  1. ]\n",
      " [6.1 2.9 4.7 1.4]\n",
      " [5.6 2.9 3.6 1.3]\n",
      " [6.7 3.1 4.4 1.4]\n",
      " [5.6 3.  4.5 1.5]\n",
      " [5.8 2.7 4.1 1. ]\n",
      " [6.2 2.2 4.5 1.5]\n",
      " [5.6 2.5 3.9 1.1]\n",
      " [5.9 3.2 4.8 1.8]\n",
      " [6.1 2.8 4.  1.3]\n",
      " [6.3 2.5 4.9 1.5]\n",
      " [6.1 2.8 4.7 1.2]\n",
      " [6.4 2.9 4.3 1.3]\n",
      " [6.6 3.  4.4 1.4]\n",
      " [6.8 2.8 4.8 1.4]\n",
      " [6.7 3.  5.  1.7]\n",
      " [6.  2.9 4.5 1.5]\n",
      " [5.7 2.6 3.5 1. ]\n",
      " [5.5 2.4 3.8 1.1]\n",
      " [5.5 2.4 3.7 1. ]\n",
      " [5.8 2.7 3.9 1.2]\n",
      " [6.  2.7 5.1 1.6]\n",
      " [5.4 3.  4.5 1.5]\n",
      " [6.  3.4 4.5 1.6]\n",
      " [6.7 3.1 4.7 1.5]\n",
      " [6.3 2.3 4.4 1.3]\n",
      " [5.6 3.  4.1 1.3]\n",
      " [5.5 2.5 4.  1.3]\n",
      " [5.5 2.6 4.4 1.2]\n",
      " [6.1 3.  4.6 1.4]\n",
      " [5.8 2.6 4.  1.2]\n",
      " [5.  2.3 3.3 1. ]\n",
      " [5.6 2.7 4.2 1.3]\n",
      " [5.7 3.  4.2 1.2]\n",
      " [5.7 2.9 4.2 1.3]\n",
      " [6.2 2.9 4.3 1.3]\n",
      " [5.1 2.5 3.  1.1]\n",
      " [5.7 2.8 4.1 1.3]\n",
      " [6.3 3.3 6.  2.5]\n",
      " [5.8 2.7 5.1 1.9]\n",
      " [7.1 3.  5.9 2.1]\n",
      " [6.3 2.9 5.6 1.8]\n",
      " [6.5 3.  5.8 2.2]\n",
      " [7.6 3.  6.6 2.1]\n",
      " [4.9 2.5 4.5 1.7]\n",
      " [7.3 2.9 6.3 1.8]\n",
      " [6.7 2.5 5.8 1.8]\n",
      " [7.2 3.6 6.1 2.5]\n",
      " [6.5 3.2 5.1 2. ]\n",
      " [6.4 2.7 5.3 1.9]\n",
      " [6.8 3.  5.5 2.1]\n",
      " [5.7 2.5 5.  2. ]\n",
      " [5.8 2.8 5.1 2.4]\n",
      " [6.4 3.2 5.3 2.3]\n",
      " [6.5 3.  5.5 1.8]\n",
      " [7.7 3.8 6.7 2.2]\n",
      " [7.7 2.6 6.9 2.3]\n",
      " [6.  2.2 5.  1.5]\n",
      " [6.9 3.2 5.7 2.3]\n",
      " [5.6 2.8 4.9 2. ]\n",
      " [7.7 2.8 6.7 2. ]\n",
      " [6.3 2.7 4.9 1.8]\n",
      " [6.7 3.3 5.7 2.1]\n",
      " [7.2 3.2 6.  1.8]\n",
      " [6.2 2.8 4.8 1.8]\n",
      " [6.1 3.  4.9 1.8]\n",
      " [6.4 2.8 5.6 2.1]\n",
      " [7.2 3.  5.8 1.6]\n",
      " [7.4 2.8 6.1 1.9]\n",
      " [7.9 3.8 6.4 2. ]\n",
      " [6.4 2.8 5.6 2.2]\n",
      " [6.3 2.8 5.1 1.5]\n",
      " [6.1 2.6 5.6 1.4]\n",
      " [7.7 3.  6.1 2.3]\n",
      " [6.3 3.4 5.6 2.4]\n",
      " [6.4 3.1 5.5 1.8]\n",
      " [6.  3.  4.8 1.8]\n",
      " [6.9 3.1 5.4 2.1]\n",
      " [6.7 3.1 5.6 2.4]\n",
      " [6.9 3.1 5.1 2.3]\n",
      " [5.8 2.7 5.1 1.9]\n",
      " [6.8 3.2 5.9 2.3]\n",
      " [6.7 3.3 5.7 2.5]\n",
      " [6.7 3.  5.2 2.3]\n",
      " [6.3 2.5 5.  1.9]\n",
      " [6.5 3.  5.2 2. ]\n",
      " [6.2 3.4 5.4 2.3]\n",
      " [5.9 3.  5.1 1.8]]\n"
     ]
    }
   ],
   "source": [
    "# part 2 - also includes the exercize conclusion with chart\n",
    "# hint: command shift p to see shortcuts\n",
    "# run cell and select next -> [option][shift]\n",
    "from sklearn.datasets import load_iris\n",
    "iris = load_iris()\n",
    "print(iris.data)"
   ]
  },
  {
   "cell_type": "code",
   "execution_count": 109,
   "id": "selective-research",
   "metadata": {},
   "outputs": [
    {
     "name": "stdout",
     "output_type": "stream",
     "text": [
      "[0 0 0 0 0 0 0 0 0 0 0 0 0 0 0 0 0 0 0 0 0 0 0 0 0 0 0 0 0 0 0 0 0 0 0 0 0\n",
      " 0 0 0 0 0 0 0 0 0 0 0 0 0 1 1 1 1 1 1 1 1 1 1 1 1 1 1 1 1 1 1 1 1 1 1 1 1\n",
      " 1 1 1 1 1 1 1 1 1 1 1 1 1 1 1 1 1 1 1 1 1 1 1 1 1 1 2 2 2 2 2 2 2 2 2 2 2\n",
      " 2 2 2 2 2 2 2 2 2 2 2 2 2 2 2 2 2 2 2 2 2 2 2 2 2 2 2 2 2 2 2 2 2 2 2 2 2\n",
      " 2 2]\n"
     ]
    }
   ],
   "source": [
    "# print the targets (numbers 0,1,2 represent the names of the target data as numeric values)\n",
    "print(iris.target)"
   ]
  },
  {
   "cell_type": "code",
   "execution_count": 110,
   "id": "embedded-melbourne",
   "metadata": {},
   "outputs": [
    {
     "name": "stdout",
     "output_type": "stream",
     "text": [
      "['setosa' 'versicolor' 'virginica']\n"
     ]
    }
   ],
   "source": [
    "# names of targets (0,1,2)\n",
    "print(iris.target_names)"
   ]
  },
  {
   "cell_type": "code",
   "execution_count": 111,
   "id": "thirty-silver",
   "metadata": {},
   "outputs": [
    {
     "name": "stdout",
     "output_type": "stream",
     "text": [
      "(150, 4)\n"
     ]
    }
   ],
   "source": [
    "print(iris.data.shape)"
   ]
  },
  {
   "cell_type": "code",
   "execution_count": 112,
   "id": "after-hollow",
   "metadata": {},
   "outputs": [
    {
     "name": "stdout",
     "output_type": "stream",
     "text": [
      "(150,)\n"
     ]
    }
   ],
   "source": [
    "print(iris.target.shape)"
   ]
  },
  {
   "cell_type": "markdown",
   "id": "ready-drove",
   "metadata": {},
   "source": [
    "# Importing KNN"
   ]
  },
  {
   "cell_type": "code",
   "execution_count": 113,
   "id": "respiratory-count",
   "metadata": {},
   "outputs": [],
   "source": [
    "# KNeighborsClassifier is case sensetive\n",
    "# make KNeighborsClassifier a function passing in n_neighbors=1\n",
    "# create a new variable, knn -> knn = KNeighborsClassifier(n_neighbors=1) - 1 may not be the best value, we will try to choose the best value later\n",
    "from sklearn.neighbors import KNeighborsClassifier\n",
    "knn = KNeighborsClassifier(n_neighbors=1)"
   ]
  },
  {
   "cell_type": "code",
   "execution_count": 114,
   "id": "retained-retention",
   "metadata": {},
   "outputs": [],
   "source": [
    "# capital X is usally the data and y is the target\n",
    "\n",
    "X = iris.data\n",
    "y = iris.target"
   ]
  },
  {
   "cell_type": "code",
   "execution_count": 115,
   "id": "patient-radical",
   "metadata": {},
   "outputs": [
    {
     "data": {
      "text/plain": [
       "KNeighborsClassifier(n_neighbors=1)"
      ]
     },
     "execution_count": 115,
     "metadata": {},
     "output_type": "execute_result"
    }
   ],
   "source": [
    "# the fit function is used to train the computer - pass in X and y as parameters\n",
    "knn.fit(X,y)\n",
    "# information about the projection is returned as an Out value, notice the n_neighbors value"
   ]
  },
  {
   "cell_type": "code",
   "execution_count": 116,
   "id": "periodic-absorption",
   "metadata": {},
   "outputs": [
    {
     "name": "stdout",
     "output_type": "stream",
     "text": [
      "[2]\n"
     ]
    }
   ],
   "source": [
    "# Now we predict \n",
    "# The Iris Dataset - Ronald Foisher - Biologist\n",
    "# Collected 150 samples pf Iris flowers\n",
    "# 50 samples of each of three different species\n",
    "# Of each sample, he took the measurements of the petal and the sepal\n",
    "# see -> https://www.kaggle.com/ for additional info including tutorials\n",
    "# The Iris Dataset - Ronald Foisher - Biologist\n",
    "# Collected 150 samples pf Iris flowers\n",
    "# 50 samples of each of three different species\n",
    "# Of each sample, he took the measurements of the petal and the sepal\n",
    "# get a sample from the Iris Dataset (species data) - choose one set and clean the data\n",
    "# Sepal.Length, SepalWidth, Petel.Length, Petal.Width, Species\n",
    "# google for more info -> iris dataset machine learning\n",
    "\n",
    "# list of observations coipied from above \n",
    "print(knn.predict( [ [5.9,3,5.1,1.8 ] ] ) )\n",
    "# get a sample from the Iris Dataset (species data) - choose one set and clean the data\n",
    "# Sepal.Length, SepalWidth, Petel.Length, Petal.Width, Species\n",
    "# google for more info -> iris dataset machine learning\n",
    "### print(knn.predict( [ [5.9,3,5.1,1.8 ] ] ))"
   ]
  },
  {
   "cell_type": "markdown",
   "id": "third-tongue",
   "metadata": {},
   "source": [
    "## Seperate data into train and test groups"
   ]
  },
  {
   "cell_type": "code",
   "execution_count": 117,
   "id": "complete-description",
   "metadata": {},
   "outputs": [],
   "source": [
    "# use sklearn -> https://scikit-learn.org/stable/modules/generated/sklearn.model_selection.train_test_split.html\n",
    "# X_train - train the computer\n",
    "# X_test - test permance of the train\n",
    "# y_train - y train the computer\n",
    "# y_test - y test the training of the computer\n",
    "\n",
    "# test_size = 0.25 means that 75 % of data will be used for training\n",
    "# test_size = 0.25, random_state=42 \n",
    "# the random_state=42 will provide more accuracy across testors\n",
    "\n",
    "from sklearn.model_selection import train_test_split\n",
    "# X_train, X_test, y_train, y_test = train_test_split(X,y, test_size=0.25)   # performance = 0.9736842105263158\n",
    "## X_train, X_test, y_train, y_test = train_test_split(X,y, test_size=0.25, random_state=42) # performance = 1.0\n",
    "X_train, X_test, y_train, y_test = train_test_split(X,y, test_size=0.40, random_state=42) # performance = 0.9833333333333333"
   ]
  },
  {
   "cell_type": "code",
   "execution_count": 118,
   "id": "acute-fourth",
   "metadata": {},
   "outputs": [
    {
     "name": "stdout",
     "output_type": "stream",
     "text": [
      "(60, 4)\n"
     ]
    }
   ],
   "source": [
    "# print(X_train) - will show the training data\n",
    "# print(X_train.shape) - will show the number of observations used to train\n",
    "# print(X_test.shape) - will show the number of observations use to test\n",
    "print(X_test.shape)"
   ]
  },
  {
   "cell_type": "code",
   "execution_count": 119,
   "id": "competent-moral",
   "metadata": {},
   "outputs": [
    {
     "name": "stdout",
     "output_type": "stream",
     "text": [
      "[1 0 2 1 1 0 1 2 1 1 2 0 0 0 0 1 2 1 1 2 0 2 0 2 2 2 2 2 0 0 0 0 1 0 0 2 1\n",
      " 0 0 0 2 1 1 0 0 1 1 2 1 2 1 2 1 0 2 1 0 0 0 1]\n"
     ]
    }
   ],
   "source": [
    "# lets see what is predicted - observations are done ramdomly by the train_test_split module\n",
    "knn.fit(X_train, y_train)\n",
    "predictions = knn.predict(X_test)\n",
    "print(predictions)"
   ]
  },
  {
   "cell_type": "code",
   "execution_count": 120,
   "id": "royal-swing",
   "metadata": {},
   "outputs": [
    {
     "name": "stdout",
     "output_type": "stream",
     "text": [
      "[1 0 2 1 1 0 1 2 1 1 2 0 0 0 0 1 2 1 1 2 0 2 0 2 2 2 2 2 0 0 0 0 1 0 0 2 1\n",
      " 0 0 0 2 1 1 0 0 1 2 2 1 2 1 2 1 0 2 1 0 0 0 1]\n"
     ]
    }
   ],
   "source": [
    "# compare with predictions above, visual inspection seems to match\n",
    "print(y_test)"
   ]
  },
  {
   "cell_type": "code",
   "execution_count": 121,
   "id": "sensitive-complaint",
   "metadata": {},
   "outputs": [
    {
     "name": "stdout",
     "output_type": "stream",
     "text": [
      "0.9833333333333333\n"
     ]
    }
   ],
   "source": [
    "# use the sklearn metrics module to help with the analysis\n",
    "from sklearn import metrics\n",
    "performance = metrics.accuracy_score(y_test, predictions)\n",
    "print(performance)"
   ]
  },
  {
   "cell_type": "code",
   "execution_count": 122,
   "id": "amino-invasion",
   "metadata": {},
   "outputs": [
    {
     "name": "stdout",
     "output_type": "stream",
     "text": [
      "{1: 0.9833, 2: 0.9833, 3: 0.9833, 4: 0.9833, 5: 0.9833, 6: 0.9833, 7: 0.9833, 8: 0.9833, 9: 0.9833, 10: 0.9833, 11: 1.0, 12: 1.0, 13: 1.0, 14: 1.0, 15: 1.0, 16: 1.0, 17: 1.0, 18: 1.0, 19: 1.0, 20: 1.0, 21: 1.0, 22: 0.9833, 23: 1.0, 24: 0.9833, 25: 1.0}\n"
     ]
    }
   ],
   "source": [
    "# Picking the best value of k\n",
    "# Create a loop to apply KNN with values ranging from 1 to 25.\n",
    "# Test the perfomance of each K value and present the ones that best suits our dataset.\n",
    "# answer below\n",
    "# create a dictionary of K values (k_values)\n",
    "# build the dictionary as we loop\n",
    "\n",
    "k_values = {}\n",
    "k = 1\n",
    "\n",
    "while k <= 25:\n",
    "    ### NO  answers.append(correct_answer)\n",
    "    ### NO k_values.append('k':k, 'p_val':p)\n",
    "    \n",
    "    knn = KNeighborsClassifier(n_neighbors = k) # copied from above but 1 replaced by k - looping\n",
    "    knn.fit(X_train, y_train)  # use the X_train and y_train parameters\n",
    "    predictions = knn.predict(X_test)\n",
    "    performance = metrics.accuracy_score(y_test, predictions)  # copied from above\n",
    "    k_values[k] = round(performance,4) # add to dictionary with k as the key and performance as the value\n",
    "    k += 1\n",
    "print(k_values)\n",
    "    "
   ]
  },
  {
   "cell_type": "code",
   "execution_count": 125,
   "id": "southeast-briefing",
   "metadata": {},
   "outputs": [
    {
     "data": {
      "image/png": "[encoded data removed]",
      "text/plain": [
       "<Figure size 432x288 with 1 Axes>"
      ]
     },
     "metadata": {
      "needs_background": "light"
     },
     "output_type": "display_data"
    }
   ],
   "source": [
    "# make a chart for easier analysis\n",
    "import matplotlib.pyplot as plt\n",
    "\n",
    "# to show inline, use the next line\n",
    "%matplotlib inline\n",
    "\n",
    "# make a list from the k_values dictionary \n",
    "plt.plot(list(k_values.keys()), list(k_values.values()))\n",
    "plt.xlabel(\"Values of K\")\n",
    "plt.ylabel = (\"Performance\")\n",
    "plt.show()"
   ]
  },
  {
   "cell_type": "code",
   "execution_count": null,
   "id": "informal-batman",
   "metadata": {},
   "outputs": [],
   "source": []
  }
 ],
 "metadata": {
  "kernelspec": {
   "display_name": "Python 3",
   "language": "python",
   "name": "python3"
  },
  "language_info": {
   "codemirror_mode": {
    "name": "ipython",
    "version": 3
   },
   "file_extension": ".py",
   "mimetype": "text/x-python",
   "name": "python",
   "nbconvert_exporter": "python",
   "pygments_lexer": "ipython3",
   "version": "3.9.1"
  }
 },
 "nbformat": 4,
 "nbformat_minor": 5
}
