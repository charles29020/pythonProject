{
 "cells": [
  {
   "cell_type": "code",
   "execution_count": null,
   "id": "synthetic-paper",
   "metadata": {},
   "outputs": [],
   "source": [
    "# hint: command shift p to see shortcuts\n",
    "# run cell and select next -> [option][shift]\n",
    "from sklearn.datasets import load_iris\n",
    "iris = load_iris()\n",
    "print(iris.data)"
   ]
  },
  {
   "cell_type": "code",
   "execution_count": null,
   "id": "selective-research",
   "metadata": {},
   "outputs": [],
   "source": [
    "print(iris.target)"
   ]
  },
  {
   "cell_type": "code",
   "execution_count": null,
   "id": "embedded-melbourne",
   "metadata": {},
   "outputs": [],
   "source": [
    "print(iris.target_names)"
   ]
  },
  {
   "cell_type": "code",
   "execution_count": null,
   "id": "thirty-silver",
   "metadata": {},
   "outputs": [],
   "source": [
    "print(iris.data.shape)"
   ]
  },
  {
   "cell_type": "code",
   "execution_count": null,
   "id": "after-hollow",
   "metadata": {},
   "outputs": [],
   "source": [
    "print(iris.target.shape)"
   ]
  },
  {
   "cell_type": "markdown",
   "id": "ready-drove",
   "metadata": {},
   "source": [
    "# Importing KNN"
   ]
  },
  {
   "cell_type": "code",
   "execution_count": null,
   "id": "respiratory-count",
   "metadata": {},
   "outputs": [],
   "source": [
    "from sklearn.neighbors import KNeighborsClassifier\n",
    "k = 1\n",
    "p = float\n",
    "max_performance = float\n",
    "while k <= 25:\n",
    "   knn = KNeighborsClassifier(n_neighbors=1)\n",
    "\n"
   ]
  },
  {
   "cell_type": "code",
   "execution_count": null,
   "id": "retained-retention",
   "metadata": {},
   "outputs": [],
   "source": [
    "X = iris.data\n",
    "y = iris.target"
   ]
  },
  {
   "cell_type": "code",
   "execution_count": null,
   "id": "patient-radical",
   "metadata": {},
   "outputs": [],
   "source": [
    "knn.fit(X,y)"
   ]
  },
  {
   "cell_type": "code",
   "execution_count": null,
   "id": "periodic-absorption",
   "metadata": {},
   "outputs": [],
   "source": [
    "# The Iris Dataset - Ronald Foisher - Biologist\n",
    "# Collected 150 samples pf Iris flowers\n",
    "# 50 samples of each of three different species\n",
    "# Of each sample, he took the measurements of the petal and the sepal\n",
    "# see -> https://www.kaggle.com/ for additional info including tutorials\n",
    "# The Iris Dataset - Ronald Foisher - Biologist\n",
    "# Collected 150 samples pf Iris flowers\n",
    "# 50 samples of each of three different species\n",
    "# Of each sample, he took the measurements of the petal and the sepal\n",
    "# get a sample from the Iris Dataset (species data) - choose one set and clean the data\n",
    "# Sepal.Length, SepalWidth, Petel.Length, Petal.Width, Species\n",
    "# google for more info -> iris dataset machine learning\n",
    "print(knn.predict( [ [5.9,3.,5.1,1.8 ] ] ))\n",
    "# get a sample from the Iris Dataset (species data) - choose one set and clean the data\n",
    "# Sepal.Length, SepalWidth, Petel.Length, Petal.Width, Species\n",
    "# google for more info -> iris dataset machine learning\n",
    "print(knn.predict( [ [5.9,3.,5.1,1.8 ] ] ))"
   ]
  },
  {
   "cell_type": "code",
   "execution_count": null,
   "id": "included-catalog",
   "metadata": {},
   "outputs": [],
   "source": [
    "# google -> random_state, train_test_split and sklearn for expinations on making adjustments to the test_size and random_state can be tweaked to achive better results\n",
    "# test_size=0.4, random_state=42 were adjusted from test_size=0.25, random_state=42\n",
    "# making adjustments to those values effect the performance of the test (p value)\n",
    "from sklearn.model_selection import train_test_split\n",
    "X_train, X_test, y_train, y_test = train_test_split(X, y, test_size=0.4, random_state=42)"
   ]
  },
  {
   "cell_type": "code",
   "execution_count": null,
   "id": "several-billy",
   "metadata": {},
   "outputs": [],
   "source": [
    "print(X_test.shape)"
   ]
  },
  {
   "cell_type": "code",
   "execution_count": null,
   "id": "comfortable-processing",
   "metadata": {},
   "outputs": [],
   "source": [
    "knn.fit(X_train, y_train)\n",
    "predictions = knn.predict(X_test)\n",
    "print(predictions)"
   ]
  },
  {
   "cell_type": "code",
   "execution_count": null,
   "id": "frequent-camera",
   "metadata": {},
   "outputs": [],
   "source": [
    "from sklearn import metrics\n",
    "performance = metrics.accuracy_score(y_test, predictions)\n",
    "print(performance)\n",
    "\n",
    "performance = p\n",
    "# print('p: ', p)\n",
    "print('y_test: ', y_test)"
   ]
  },
  {
   "cell_type": "markdown",
   "id": "minus-george",
   "metadata": {},
   "source": [
    "# Exercise - Finding the best value of K"
   ]
  },
  {
   "cell_type": "code",
   "execution_count": null,
   "id": "colonial-spice",
   "metadata": {},
   "outputs": [],
   "source": [
    "# Picking the best value of k\n",
    "# Create a loop to apply KNN with values ranging from 1 to 25.\n",
    "# Test the perfomance of each K value and present the ones that best suits our dataset.\n",
    "# answer below\n",
    "# create a dictionary of K values (k_values)\n",
    "\n",
    "k_values = {}\n",
    "k = 1\n",
    "\n",
    "while k <= 25:\n",
    "    ### NO  answers.append(correct_answer)\n",
    "    ### NO k_values.append('k':k, 'p_val':p)\n",
    "    \n",
    "    knn = KNeighborsClassifier(n_neighbors = k) # copied from above but 1 replaced by k - looping\n",
    "    knn.fit(X_train, y_train)  # use the X_train and y_train parameters\n",
    "    predictions = knn.predict(X_test)\n",
    "    performance = metrics.accuracy_score(y_test, predictions)  # copied from above\n",
    "    k_values[k] = round(performace,4) # add to dictionary with k as the key and performance as the value\n",
    "    k += 1\n",
    "print(k_values)\n",
    "    \n",
    "    "
   ]
  },
  {
   "cell_type": "code",
   "execution_count": null,
   "id": "editorial-absolute",
   "metadata": {},
   "outputs": [],
   "source": []
  }
 ],
 "metadata": {
  "kernelspec": {
   "display_name": "Python 3",
   "language": "python",
   "name": "python3"
  },
  "language_info": {
   "codemirror_mode": {
    "name": "ipython",
    "version": 3
   },
   "file_extension": ".py",
   "mimetype": "text/x-python",
   "name": "python",
   "nbconvert_exporter": "python",
   "pygments_lexer": "ipython3",
   "version": "3.9.1"
  }
 },
 "nbformat": 4,
 "nbformat_minor": 5
}
